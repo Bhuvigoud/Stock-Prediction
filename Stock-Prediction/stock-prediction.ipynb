{
 "cells": [
  {
   "cell_type": "code",
   "execution_count": 1,
   "id": "1a40cb6c",
   "metadata": {
    "_cell_guid": "b1076dfc-b9ad-4769-8c92-a6c4dae69d19",
    "_uuid": "8f2839f25d086af736a60e9eeb907d3b93b6e0e5",
    "execution": {
     "iopub.execute_input": "2022-11-04T06:39:28.177130Z",
     "iopub.status.busy": "2022-11-04T06:39:28.176488Z",
     "iopub.status.idle": "2022-11-04T06:39:28.196398Z",
     "shell.execute_reply": "2022-11-04T06:39:28.195193Z"
    },
    "papermill": {
     "duration": 0.03462,
     "end_time": "2022-11-04T06:39:28.200163",
     "exception": false,
     "start_time": "2022-11-04T06:39:28.165543",
     "status": "completed"
    },
    "tags": []
   },
   "outputs": [
    {
     "name": "stdout",
     "output_type": "stream",
     "text": [
      "/kaggle/input/stock-ew/EW-MAX.csv\n"
     ]
    }
   ],
   "source": [
    "# This Python 3 environment comes with many helpful analytics libraries installed\n",
    "# It is defined by the kaggle/python Docker image: https://github.com/kaggle/docker-python\n",
    "# For example, here's several helpful packages to load\n",
    "\n",
    "import numpy as np # linear algebra\n",
    "import pandas as pd # data processing, CSV file I/O (e.g. pd.read_csv)\n",
    "\n",
    "# Input data files are available in the read-only \"../input/\" directory\n",
    "# For example, running this (by clicking run or pressing Shift+Enter) will list all files under the input directory\n",
    "\n",
    "import os\n",
    "for dirname, _, filenames in os.walk('/kaggle/input'):\n",
    "    for filename in filenames:\n",
    "        print(os.path.join(dirname, filename))\n",
    "\n",
    "# You can write up to 20GB to the current directory (/kaggle/working/) that gets preserved as output when you create a version using \"Save & Run All\" \n",
    "# You can also write temporary files to /kaggle/temp/, but they won't be saved outside of the current session"
   ]
  },
  {
   "cell_type": "code",
   "execution_count": 2,
   "id": "cd01424a",
   "metadata": {
    "execution": {
     "iopub.execute_input": "2022-11-04T06:39:28.234289Z",
     "iopub.status.busy": "2022-11-04T06:39:28.233902Z",
     "iopub.status.idle": "2022-11-04T06:39:29.350044Z",
     "shell.execute_reply": "2022-11-04T06:39:29.348887Z"
    },
    "papermill": {
     "duration": 1.128153,
     "end_time": "2022-11-04T06:39:29.352801",
     "exception": false,
     "start_time": "2022-11-04T06:39:28.224648",
     "status": "completed"
    },
    "tags": []
   },
   "outputs": [],
   "source": [
    "import numpy as np\n",
    "import pandas as pd\n",
    "import matplotlib.pyplot as plt\n",
    "import seaborn as sns"
   ]
  },
  {
   "cell_type": "code",
   "execution_count": 3,
   "id": "0721ff15",
   "metadata": {
    "execution": {
     "iopub.execute_input": "2022-11-04T06:39:29.370103Z",
     "iopub.status.busy": "2022-11-04T06:39:29.369691Z",
     "iopub.status.idle": "2022-11-04T06:39:29.398168Z",
     "shell.execute_reply": "2022-11-04T06:39:29.397062Z"
    },
    "papermill": {
     "duration": 0.040967,
     "end_time": "2022-11-04T06:39:29.401589",
     "exception": false,
     "start_time": "2022-11-04T06:39:29.360622",
     "status": "completed"
    },
    "tags": []
   },
   "outputs": [],
   "source": [
    "df = pd.read_csv('EW-MAX.csv')"
   ]
  },
  {
   "cell_type": "code",
   "execution_count": 4,
   "id": "e6f52ef8",
   "metadata": {
    "execution": {
     "iopub.execute_input": "2022-11-04T06:39:29.436179Z",
     "iopub.status.busy": "2022-11-04T06:39:29.435766Z",
     "iopub.status.idle": "2022-11-04T06:39:29.459014Z",
     "shell.execute_reply": "2022-11-04T06:39:29.457763Z"
    },
    "papermill": {
     "duration": 0.035234,
     "end_time": "2022-11-04T06:39:29.461901",
     "exception": false,
     "start_time": "2022-11-04T06:39:29.426667",
     "status": "completed"
    },
    "tags": []
   },
   "outputs": [
    {
     "data": {
      "text/html": [
       "<div>\n",
       "<style scoped>\n",
       "    .dataframe tbody tr th:only-of-type {\n",
       "        vertical-align: middle;\n",
       "    }\n",
       "\n",
       "    .dataframe tbody tr th {\n",
       "        vertical-align: top;\n",
       "    }\n",
       "\n",
       "    .dataframe thead th {\n",
       "        text-align: right;\n",
       "    }\n",
       "</style>\n",
       "<table border=\"1\" class=\"dataframe\">\n",
       "  <thead>\n",
       "    <tr style=\"text-align: right;\">\n",
       "      <th></th>\n",
       "      <th>Date</th>\n",
       "      <th>Open</th>\n",
       "      <th>High</th>\n",
       "      <th>Low</th>\n",
       "      <th>Close</th>\n",
       "      <th>Adj_Close</th>\n",
       "      <th>Volume</th>\n",
       "    </tr>\n",
       "  </thead>\n",
       "  <tbody>\n",
       "    <tr>\n",
       "      <th>0</th>\n",
       "      <td>2000/3/27</td>\n",
       "      <td>3.812500</td>\n",
       "      <td>4.156250</td>\n",
       "      <td>3.812500</td>\n",
       "      <td>4.125000</td>\n",
       "      <td>4.125000</td>\n",
       "      <td>3675600</td>\n",
       "    </tr>\n",
       "    <tr>\n",
       "      <th>1</th>\n",
       "      <td>2000/3/28</td>\n",
       "      <td>4.125000</td>\n",
       "      <td>4.125000</td>\n",
       "      <td>4.000000</td>\n",
       "      <td>4.015625</td>\n",
       "      <td>4.015625</td>\n",
       "      <td>1077600</td>\n",
       "    </tr>\n",
       "    <tr>\n",
       "      <th>2</th>\n",
       "      <td>2000/3/29</td>\n",
       "      <td>4.000000</td>\n",
       "      <td>4.031250</td>\n",
       "      <td>3.953125</td>\n",
       "      <td>4.000000</td>\n",
       "      <td>4.000000</td>\n",
       "      <td>437200</td>\n",
       "    </tr>\n",
       "    <tr>\n",
       "      <th>3</th>\n",
       "      <td>2000/3/30</td>\n",
       "      <td>4.000000</td>\n",
       "      <td>4.000000</td>\n",
       "      <td>3.843750</td>\n",
       "      <td>3.843750</td>\n",
       "      <td>3.843750</td>\n",
       "      <td>1883600</td>\n",
       "    </tr>\n",
       "    <tr>\n",
       "      <th>4</th>\n",
       "      <td>2000/3/31</td>\n",
       "      <td>3.734375</td>\n",
       "      <td>3.734375</td>\n",
       "      <td>3.390625</td>\n",
       "      <td>3.390625</td>\n",
       "      <td>3.390625</td>\n",
       "      <td>7931600</td>\n",
       "    </tr>\n",
       "  </tbody>\n",
       "</table>\n",
       "</div>"
      ],
      "text/plain": [
       "        Date      Open      High       Low     Close  Adj_Close   Volume\n",
       "0  2000/3/27  3.812500  4.156250  3.812500  4.125000   4.125000  3675600\n",
       "1  2000/3/28  4.125000  4.125000  4.000000  4.015625   4.015625  1077600\n",
       "2  2000/3/29  4.000000  4.031250  3.953125  4.000000   4.000000   437200\n",
       "3  2000/3/30  4.000000  4.000000  3.843750  3.843750   3.843750  1883600\n",
       "4  2000/3/31  3.734375  3.734375  3.390625  3.390625   3.390625  7931600"
      ]
     },
     "execution_count": 4,
     "metadata": {},
     "output_type": "execute_result"
    }
   ],
   "source": [
    "df.head()"
   ]
  },
  {
   "cell_type": "code",
   "execution_count": 5,
   "id": "78d88661",
   "metadata": {
    "execution": {
     "iopub.execute_input": "2022-11-04T06:39:29.496132Z",
     "iopub.status.busy": "2022-11-04T06:39:29.495726Z",
     "iopub.status.idle": "2022-11-04T06:39:29.509747Z",
     "shell.execute_reply": "2022-11-04T06:39:29.508551Z"
    },
    "papermill": {
     "duration": 0.025768,
     "end_time": "2022-11-04T06:39:29.512088",
     "exception": false,
     "start_time": "2022-11-04T06:39:29.486320",
     "status": "completed"
    },
    "tags": []
   },
   "outputs": [
    {
     "data": {
      "text/html": [
       "<div>\n",
       "<style scoped>\n",
       "    .dataframe tbody tr th:only-of-type {\n",
       "        vertical-align: middle;\n",
       "    }\n",
       "\n",
       "    .dataframe tbody tr th {\n",
       "        vertical-align: top;\n",
       "    }\n",
       "\n",
       "    .dataframe thead th {\n",
       "        text-align: right;\n",
       "    }\n",
       "</style>\n",
       "<table border=\"1\" class=\"dataframe\">\n",
       "  <thead>\n",
       "    <tr style=\"text-align: right;\">\n",
       "      <th></th>\n",
       "      <th>Date</th>\n",
       "      <th>Open</th>\n",
       "      <th>High</th>\n",
       "      <th>Low</th>\n",
       "      <th>Close</th>\n",
       "      <th>Adj_Close</th>\n",
       "      <th>Volume</th>\n",
       "    </tr>\n",
       "  </thead>\n",
       "  <tbody>\n",
       "    <tr>\n",
       "      <th>4387</th>\n",
       "      <td>2017/9/1</td>\n",
       "      <td>113.790001</td>\n",
       "      <td>114.099998</td>\n",
       "      <td>112.790001</td>\n",
       "      <td>113.309998</td>\n",
       "      <td>113.309998</td>\n",
       "      <td>950000</td>\n",
       "    </tr>\n",
       "    <tr>\n",
       "      <th>4388</th>\n",
       "      <td>2017/9/5</td>\n",
       "      <td>112.519997</td>\n",
       "      <td>113.529999</td>\n",
       "      <td>111.160004</td>\n",
       "      <td>111.870003</td>\n",
       "      <td>111.870003</td>\n",
       "      <td>1805200</td>\n",
       "    </tr>\n",
       "    <tr>\n",
       "      <th>4389</th>\n",
       "      <td>2017/9/6</td>\n",
       "      <td>112.029999</td>\n",
       "      <td>112.489998</td>\n",
       "      <td>110.250000</td>\n",
       "      <td>112.230003</td>\n",
       "      <td>112.230003</td>\n",
       "      <td>2136700</td>\n",
       "    </tr>\n",
       "    <tr>\n",
       "      <th>4390</th>\n",
       "      <td>2017/9/7</td>\n",
       "      <td>112.459999</td>\n",
       "      <td>112.900002</td>\n",
       "      <td>112.000000</td>\n",
       "      <td>112.339996</td>\n",
       "      <td>112.339996</td>\n",
       "      <td>1251600</td>\n",
       "    </tr>\n",
       "    <tr>\n",
       "      <th>4391</th>\n",
       "      <td>2017/9/8</td>\n",
       "      <td>112.300003</td>\n",
       "      <td>114.790001</td>\n",
       "      <td>112.010002</td>\n",
       "      <td>113.190002</td>\n",
       "      <td>113.190002</td>\n",
       "      <td>1611700</td>\n",
       "    </tr>\n",
       "  </tbody>\n",
       "</table>\n",
       "</div>"
      ],
      "text/plain": [
       "          Date        Open        High         Low       Close   Adj_Close  \\\n",
       "4387  2017/9/1  113.790001  114.099998  112.790001  113.309998  113.309998   \n",
       "4388  2017/9/5  112.519997  113.529999  111.160004  111.870003  111.870003   \n",
       "4389  2017/9/6  112.029999  112.489998  110.250000  112.230003  112.230003   \n",
       "4390  2017/9/7  112.459999  112.900002  112.000000  112.339996  112.339996   \n",
       "4391  2017/9/8  112.300003  114.790001  112.010002  113.190002  113.190002   \n",
       "\n",
       "       Volume  \n",
       "4387   950000  \n",
       "4388  1805200  \n",
       "4389  2136700  \n",
       "4390  1251600  \n",
       "4391  1611700  "
      ]
     },
     "execution_count": 5,
     "metadata": {},
     "output_type": "execute_result"
    }
   ],
   "source": [
    "df.tail()"
   ]
  },
  {
   "cell_type": "code",
   "execution_count": 6,
   "id": "613e051c",
   "metadata": {
    "execution": {
     "iopub.execute_input": "2022-11-04T06:39:29.546083Z",
     "iopub.status.busy": "2022-11-04T06:39:29.545676Z",
     "iopub.status.idle": "2022-11-04T06:39:29.570041Z",
     "shell.execute_reply": "2022-11-04T06:39:29.568988Z"
    },
    "papermill": {
     "duration": 0.036469,
     "end_time": "2022-11-04T06:39:29.572553",
     "exception": false,
     "start_time": "2022-11-04T06:39:29.536084",
     "status": "completed"
    },
    "tags": []
   },
   "outputs": [
    {
     "name": "stdout",
     "output_type": "stream",
     "text": [
      "<class 'pandas.core.frame.DataFrame'>\n",
      "RangeIndex: 4392 entries, 0 to 4391\n",
      "Data columns (total 7 columns):\n",
      " #   Column     Non-Null Count  Dtype  \n",
      "---  ------     --------------  -----  \n",
      " 0   Date       4392 non-null   object \n",
      " 1   Open       4392 non-null   float64\n",
      " 2   High       4392 non-null   float64\n",
      " 3   Low        4392 non-null   float64\n",
      " 4   Close      4392 non-null   float64\n",
      " 5   Adj_Close  4392 non-null   float64\n",
      " 6   Volume     4392 non-null   int64  \n",
      "dtypes: float64(5), int64(1), object(1)\n",
      "memory usage: 240.3+ KB\n"
     ]
    }
   ],
   "source": [
    "df.info()"
   ]
  },
  {
   "cell_type": "code",
   "execution_count": 7,
   "id": "0e3aca1d",
   "metadata": {
    "execution": {
     "iopub.execute_input": "2022-11-04T06:39:29.607562Z",
     "iopub.status.busy": "2022-11-04T06:39:29.607157Z",
     "iopub.status.idle": "2022-11-04T06:39:29.617708Z",
     "shell.execute_reply": "2022-11-04T06:39:29.616648Z"
    },
    "papermill": {
     "duration": 0.023219,
     "end_time": "2022-11-04T06:39:29.620081",
     "exception": false,
     "start_time": "2022-11-04T06:39:29.596862",
     "status": "completed"
    },
    "tags": []
   },
   "outputs": [
    {
     "data": {
      "text/plain": [
       "Date         0\n",
       "Open         0\n",
       "High         0\n",
       "Low          0\n",
       "Close        0\n",
       "Adj_Close    0\n",
       "Volume       0\n",
       "dtype: int64"
      ]
     },
     "execution_count": 7,
     "metadata": {},
     "output_type": "execute_result"
    }
   ],
   "source": [
    "pd.isnull(df).sum()"
   ]
  },
  {
   "cell_type": "code",
   "execution_count": 8,
   "id": "3520fcac",
   "metadata": {
    "execution": {
     "iopub.execute_input": "2022-11-04T06:39:29.654603Z",
     "iopub.status.busy": "2022-11-04T06:39:29.654226Z",
     "iopub.status.idle": "2022-11-04T06:39:29.672154Z",
     "shell.execute_reply": "2022-11-04T06:39:29.671092Z"
    },
    "papermill": {
     "duration": 0.030223,
     "end_time": "2022-11-04T06:39:29.674740",
     "exception": false,
     "start_time": "2022-11-04T06:39:29.644517",
     "status": "completed"
    },
    "tags": []
   },
   "outputs": [
    {
     "data": {
      "text/html": [
       "<div>\n",
       "<style scoped>\n",
       "    .dataframe tbody tr th:only-of-type {\n",
       "        vertical-align: middle;\n",
       "    }\n",
       "\n",
       "    .dataframe tbody tr th {\n",
       "        vertical-align: top;\n",
       "    }\n",
       "\n",
       "    .dataframe thead th {\n",
       "        text-align: right;\n",
       "    }\n",
       "</style>\n",
       "<table border=\"1\" class=\"dataframe\">\n",
       "  <thead>\n",
       "    <tr style=\"text-align: right;\">\n",
       "      <th></th>\n",
       "      <th>Date</th>\n",
       "      <th>Open</th>\n",
       "      <th>High</th>\n",
       "      <th>Low</th>\n",
       "      <th>Close</th>\n",
       "      <th>Adj_Close</th>\n",
       "      <th>Volume</th>\n",
       "    </tr>\n",
       "  </thead>\n",
       "  <tbody>\n",
       "    <tr>\n",
       "      <th>1425</th>\n",
       "      <td>2005/11/25</td>\n",
       "      <td>10.275000</td>\n",
       "      <td>10.352500</td>\n",
       "      <td>10.260000</td>\n",
       "      <td>10.325000</td>\n",
       "      <td>10.325000</td>\n",
       "      <td>190400</td>\n",
       "    </tr>\n",
       "    <tr>\n",
       "      <th>104</th>\n",
       "      <td>2000/8/23</td>\n",
       "      <td>5.718750</td>\n",
       "      <td>5.734375</td>\n",
       "      <td>5.640625</td>\n",
       "      <td>5.718750</td>\n",
       "      <td>5.718750</td>\n",
       "      <td>220000</td>\n",
       "    </tr>\n",
       "    <tr>\n",
       "      <th>93</th>\n",
       "      <td>2000/8/8</td>\n",
       "      <td>5.671875</td>\n",
       "      <td>5.687500</td>\n",
       "      <td>5.500000</td>\n",
       "      <td>5.625000</td>\n",
       "      <td>5.625000</td>\n",
       "      <td>224000</td>\n",
       "    </tr>\n",
       "    <tr>\n",
       "      <th>923</th>\n",
       "      <td>2003/11/28</td>\n",
       "      <td>7.500000</td>\n",
       "      <td>7.582500</td>\n",
       "      <td>7.477500</td>\n",
       "      <td>7.530000</td>\n",
       "      <td>7.530000</td>\n",
       "      <td>224800</td>\n",
       "    </tr>\n",
       "    <tr>\n",
       "      <th>1926</th>\n",
       "      <td>2007/11/23</td>\n",
       "      <td>12.282500</td>\n",
       "      <td>12.462500</td>\n",
       "      <td>12.257500</td>\n",
       "      <td>12.422500</td>\n",
       "      <td>12.422500</td>\n",
       "      <td>225600</td>\n",
       "    </tr>\n",
       "    <tr>\n",
       "      <th>320</th>\n",
       "      <td>2001/7/3</td>\n",
       "      <td>6.587500</td>\n",
       "      <td>6.637500</td>\n",
       "      <td>6.562500</td>\n",
       "      <td>6.562500</td>\n",
       "      <td>6.562500</td>\n",
       "      <td>226000</td>\n",
       "    </tr>\n",
       "    <tr>\n",
       "      <th>322</th>\n",
       "      <td>2001/7/6</td>\n",
       "      <td>6.535000</td>\n",
       "      <td>6.535000</td>\n",
       "      <td>6.370000</td>\n",
       "      <td>6.370000</td>\n",
       "      <td>6.370000</td>\n",
       "      <td>246400</td>\n",
       "    </tr>\n",
       "    <tr>\n",
       "      <th>150</th>\n",
       "      <td>2000/10/27</td>\n",
       "      <td>5.828125</td>\n",
       "      <td>5.875000</td>\n",
       "      <td>5.750000</td>\n",
       "      <td>5.750000</td>\n",
       "      <td>5.750000</td>\n",
       "      <td>262000</td>\n",
       "    </tr>\n",
       "    <tr>\n",
       "      <th>942</th>\n",
       "      <td>2003/12/26</td>\n",
       "      <td>7.450000</td>\n",
       "      <td>7.500000</td>\n",
       "      <td>7.425000</td>\n",
       "      <td>7.472500</td>\n",
       "      <td>7.472500</td>\n",
       "      <td>263600</td>\n",
       "    </tr>\n",
       "    <tr>\n",
       "      <th>116</th>\n",
       "      <td>2000/9/11</td>\n",
       "      <td>5.593750</td>\n",
       "      <td>5.593750</td>\n",
       "      <td>5.531250</td>\n",
       "      <td>5.578125</td>\n",
       "      <td>5.578125</td>\n",
       "      <td>264400</td>\n",
       "    </tr>\n",
       "  </tbody>\n",
       "</table>\n",
       "</div>"
      ],
      "text/plain": [
       "            Date       Open       High        Low      Close  Adj_Close  \\\n",
       "1425  2005/11/25  10.275000  10.352500  10.260000  10.325000  10.325000   \n",
       "104    2000/8/23   5.718750   5.734375   5.640625   5.718750   5.718750   \n",
       "93      2000/8/8   5.671875   5.687500   5.500000   5.625000   5.625000   \n",
       "923   2003/11/28   7.500000   7.582500   7.477500   7.530000   7.530000   \n",
       "1926  2007/11/23  12.282500  12.462500  12.257500  12.422500  12.422500   \n",
       "320     2001/7/3   6.587500   6.637500   6.562500   6.562500   6.562500   \n",
       "322     2001/7/6   6.535000   6.535000   6.370000   6.370000   6.370000   \n",
       "150   2000/10/27   5.828125   5.875000   5.750000   5.750000   5.750000   \n",
       "942   2003/12/26   7.450000   7.500000   7.425000   7.472500   7.472500   \n",
       "116    2000/9/11   5.593750   5.593750   5.531250   5.578125   5.578125   \n",
       "\n",
       "      Volume  \n",
       "1425  190400  \n",
       "104   220000  \n",
       "93    224000  \n",
       "923   224800  \n",
       "1926  225600  \n",
       "320   226000  \n",
       "322   246400  \n",
       "150   262000  \n",
       "942   263600  \n",
       "116   264400  "
      ]
     },
     "execution_count": 8,
     "metadata": {},
     "output_type": "execute_result"
    }
   ],
   "source": [
    "sorted_df = df.sort_values('Volume', ascending = True).head(10)\n",
    "sorted_df"
   ]
  },
  {
   "cell_type": "code",
   "execution_count": 9,
   "id": "856a65b9",
   "metadata": {
    "execution": {
     "iopub.execute_input": "2022-11-04T06:39:29.713451Z",
     "iopub.status.busy": "2022-11-04T06:39:29.713049Z",
     "iopub.status.idle": "2022-11-04T06:39:29.731026Z",
     "shell.execute_reply": "2022-11-04T06:39:29.729865Z"
    },
    "papermill": {
     "duration": 0.03031,
     "end_time": "2022-11-04T06:39:29.733242",
     "exception": false,
     "start_time": "2022-11-04T06:39:29.702932",
     "status": "completed"
    },
    "tags": []
   },
   "outputs": [
    {
     "data": {
      "text/html": [
       "<div>\n",
       "<style scoped>\n",
       "    .dataframe tbody tr th:only-of-type {\n",
       "        vertical-align: middle;\n",
       "    }\n",
       "\n",
       "    .dataframe tbody tr th {\n",
       "        vertical-align: top;\n",
       "    }\n",
       "\n",
       "    .dataframe thead th {\n",
       "        text-align: right;\n",
       "    }\n",
       "</style>\n",
       "<table border=\"1\" class=\"dataframe\">\n",
       "  <thead>\n",
       "    <tr style=\"text-align: right;\">\n",
       "      <th></th>\n",
       "      <th>Date</th>\n",
       "      <th>Open</th>\n",
       "      <th>High</th>\n",
       "      <th>Low</th>\n",
       "      <th>Close</th>\n",
       "      <th>Adj_Close</th>\n",
       "      <th>Volume</th>\n",
       "    </tr>\n",
       "  </thead>\n",
       "  <tbody>\n",
       "    <tr>\n",
       "      <th>153</th>\n",
       "      <td>2000/11/1</td>\n",
       "      <td>3.375000</td>\n",
       "      <td>3.390625</td>\n",
       "      <td>3.000000</td>\n",
       "      <td>3.250000</td>\n",
       "      <td>3.250000</td>\n",
       "      <td>19073200</td>\n",
       "    </tr>\n",
       "    <tr>\n",
       "      <th>154</th>\n",
       "      <td>2000/11/2</td>\n",
       "      <td>3.296875</td>\n",
       "      <td>3.562500</td>\n",
       "      <td>3.265625</td>\n",
       "      <td>3.546875</td>\n",
       "      <td>3.546875</td>\n",
       "      <td>3819600</td>\n",
       "    </tr>\n",
       "    <tr>\n",
       "      <th>7</th>\n",
       "      <td>2000/4/5</td>\n",
       "      <td>3.468750</td>\n",
       "      <td>3.562500</td>\n",
       "      <td>3.453125</td>\n",
       "      <td>3.484375</td>\n",
       "      <td>3.484375</td>\n",
       "      <td>6349600</td>\n",
       "    </tr>\n",
       "    <tr>\n",
       "      <th>166</th>\n",
       "      <td>2000/11/20</td>\n",
       "      <td>3.578125</td>\n",
       "      <td>3.578125</td>\n",
       "      <td>3.390625</td>\n",
       "      <td>3.437500</td>\n",
       "      <td>3.437500</td>\n",
       "      <td>530800</td>\n",
       "    </tr>\n",
       "    <tr>\n",
       "      <th>6</th>\n",
       "      <td>2000/4/4</td>\n",
       "      <td>3.531250</td>\n",
       "      <td>3.578125</td>\n",
       "      <td>3.093750</td>\n",
       "      <td>3.500000</td>\n",
       "      <td>3.500000</td>\n",
       "      <td>13136800</td>\n",
       "    </tr>\n",
       "    <tr>\n",
       "      <th>8</th>\n",
       "      <td>2000/4/6</td>\n",
       "      <td>3.500000</td>\n",
       "      <td>3.593750</td>\n",
       "      <td>3.468750</td>\n",
       "      <td>3.578125</td>\n",
       "      <td>3.578125</td>\n",
       "      <td>7181200</td>\n",
       "    </tr>\n",
       "    <tr>\n",
       "      <th>165</th>\n",
       "      <td>2000/11/17</td>\n",
       "      <td>3.609375</td>\n",
       "      <td>3.609375</td>\n",
       "      <td>3.390625</td>\n",
       "      <td>3.546875</td>\n",
       "      <td>3.546875</td>\n",
       "      <td>1190000</td>\n",
       "    </tr>\n",
       "    <tr>\n",
       "      <th>15</th>\n",
       "      <td>2000/4/17</td>\n",
       "      <td>3.578125</td>\n",
       "      <td>3.609375</td>\n",
       "      <td>3.515625</td>\n",
       "      <td>3.562500</td>\n",
       "      <td>3.562500</td>\n",
       "      <td>2992000</td>\n",
       "    </tr>\n",
       "    <tr>\n",
       "      <th>16</th>\n",
       "      <td>2000/4/18</td>\n",
       "      <td>3.609375</td>\n",
       "      <td>3.625000</td>\n",
       "      <td>3.484375</td>\n",
       "      <td>3.515625</td>\n",
       "      <td>3.515625</td>\n",
       "      <td>2896000</td>\n",
       "    </tr>\n",
       "    <tr>\n",
       "      <th>14</th>\n",
       "      <td>2000/4/14</td>\n",
       "      <td>3.609375</td>\n",
       "      <td>3.625000</td>\n",
       "      <td>3.531250</td>\n",
       "      <td>3.609375</td>\n",
       "      <td>3.609375</td>\n",
       "      <td>2626000</td>\n",
       "    </tr>\n",
       "  </tbody>\n",
       "</table>\n",
       "</div>"
      ],
      "text/plain": [
       "           Date      Open      High       Low     Close  Adj_Close    Volume\n",
       "153   2000/11/1  3.375000  3.390625  3.000000  3.250000   3.250000  19073200\n",
       "154   2000/11/2  3.296875  3.562500  3.265625  3.546875   3.546875   3819600\n",
       "7      2000/4/5  3.468750  3.562500  3.453125  3.484375   3.484375   6349600\n",
       "166  2000/11/20  3.578125  3.578125  3.390625  3.437500   3.437500    530800\n",
       "6      2000/4/4  3.531250  3.578125  3.093750  3.500000   3.500000  13136800\n",
       "8      2000/4/6  3.500000  3.593750  3.468750  3.578125   3.578125   7181200\n",
       "165  2000/11/17  3.609375  3.609375  3.390625  3.546875   3.546875   1190000\n",
       "15    2000/4/17  3.578125  3.609375  3.515625  3.562500   3.562500   2992000\n",
       "16    2000/4/18  3.609375  3.625000  3.484375  3.515625   3.515625   2896000\n",
       "14    2000/4/14  3.609375  3.625000  3.531250  3.609375   3.609375   2626000"
      ]
     },
     "execution_count": 9,
     "metadata": {},
     "output_type": "execute_result"
    }
   ],
   "source": [
    "sorted_df = df.sort_values('High', ascending = True).head(10)\n",
    "sorted_df"
   ]
  },
  {
   "cell_type": "code",
   "execution_count": 10,
   "id": "e0813d16",
   "metadata": {
    "execution": {
     "iopub.execute_input": "2022-11-04T06:39:29.769982Z",
     "iopub.status.busy": "2022-11-04T06:39:29.769579Z",
     "iopub.status.idle": "2022-11-04T06:39:29.804028Z",
     "shell.execute_reply": "2022-11-04T06:39:29.803207Z"
    },
    "papermill": {
     "duration": 0.04715,
     "end_time": "2022-11-04T06:39:29.806435",
     "exception": false,
     "start_time": "2022-11-04T06:39:29.759285",
     "status": "completed"
    },
    "tags": []
   },
   "outputs": [
    {
     "data": {
      "text/html": [
       "<div>\n",
       "<style scoped>\n",
       "    .dataframe tbody tr th:only-of-type {\n",
       "        vertical-align: middle;\n",
       "    }\n",
       "\n",
       "    .dataframe tbody tr th {\n",
       "        vertical-align: top;\n",
       "    }\n",
       "\n",
       "    .dataframe thead th {\n",
       "        text-align: right;\n",
       "    }\n",
       "</style>\n",
       "<table border=\"1\" class=\"dataframe\">\n",
       "  <thead>\n",
       "    <tr style=\"text-align: right;\">\n",
       "      <th></th>\n",
       "      <th>count</th>\n",
       "      <th>mean</th>\n",
       "      <th>std</th>\n",
       "      <th>min</th>\n",
       "      <th>25%</th>\n",
       "      <th>50%</th>\n",
       "      <th>75%</th>\n",
       "      <th>max</th>\n",
       "    </tr>\n",
       "  </thead>\n",
       "  <tbody>\n",
       "    <tr>\n",
       "      <th>Open</th>\n",
       "      <td>4392.0</td>\n",
       "      <td>3.056254e+01</td>\n",
       "      <td>2.991476e+01</td>\n",
       "      <td>3.296875</td>\n",
       "      <td>8.718125e+00</td>\n",
       "      <td>1.476625e+01</td>\n",
       "      <td>4.254625e+01</td>\n",
       "      <td>1.210800e+02</td>\n",
       "    </tr>\n",
       "    <tr>\n",
       "      <th>High</th>\n",
       "      <td>4392.0</td>\n",
       "      <td>3.089362e+01</td>\n",
       "      <td>3.021097e+01</td>\n",
       "      <td>3.390625</td>\n",
       "      <td>8.803125e+00</td>\n",
       "      <td>1.498125e+01</td>\n",
       "      <td>4.305125e+01</td>\n",
       "      <td>1.217500e+02</td>\n",
       "    </tr>\n",
       "    <tr>\n",
       "      <th>Low</th>\n",
       "      <td>4392.0</td>\n",
       "      <td>3.023883e+01</td>\n",
       "      <td>2.961576e+01</td>\n",
       "      <td>3.000000</td>\n",
       "      <td>8.625000e+00</td>\n",
       "      <td>1.466250e+01</td>\n",
       "      <td>4.208625e+01</td>\n",
       "      <td>1.201700e+02</td>\n",
       "    </tr>\n",
       "    <tr>\n",
       "      <th>Close</th>\n",
       "      <td>4392.0</td>\n",
       "      <td>3.057258e+01</td>\n",
       "      <td>2.990578e+01</td>\n",
       "      <td>3.250000</td>\n",
       "      <td>8.712500e+00</td>\n",
       "      <td>1.476750e+01</td>\n",
       "      <td>4.254000e+01</td>\n",
       "      <td>1.213600e+02</td>\n",
       "    </tr>\n",
       "    <tr>\n",
       "      <th>Adj_Close</th>\n",
       "      <td>4392.0</td>\n",
       "      <td>3.057258e+01</td>\n",
       "      <td>2.990578e+01</td>\n",
       "      <td>3.250000</td>\n",
       "      <td>8.712500e+00</td>\n",
       "      <td>1.476750e+01</td>\n",
       "      <td>4.254000e+01</td>\n",
       "      <td>1.213600e+02</td>\n",
       "    </tr>\n",
       "    <tr>\n",
       "      <th>Volume</th>\n",
       "      <td>4392.0</td>\n",
       "      <td>1.884027e+06</td>\n",
       "      <td>1.621609e+06</td>\n",
       "      <td>190400.000000</td>\n",
       "      <td>1.088800e+06</td>\n",
       "      <td>1.539300e+06</td>\n",
       "      <td>2.188900e+06</td>\n",
       "      <td>4.641260e+07</td>\n",
       "    </tr>\n",
       "  </tbody>\n",
       "</table>\n",
       "</div>"
      ],
      "text/plain": [
       "            count          mean           std            min           25%  \\\n",
       "Open       4392.0  3.056254e+01  2.991476e+01       3.296875  8.718125e+00   \n",
       "High       4392.0  3.089362e+01  3.021097e+01       3.390625  8.803125e+00   \n",
       "Low        4392.0  3.023883e+01  2.961576e+01       3.000000  8.625000e+00   \n",
       "Close      4392.0  3.057258e+01  2.990578e+01       3.250000  8.712500e+00   \n",
       "Adj_Close  4392.0  3.057258e+01  2.990578e+01       3.250000  8.712500e+00   \n",
       "Volume     4392.0  1.884027e+06  1.621609e+06  190400.000000  1.088800e+06   \n",
       "\n",
       "                    50%           75%           max  \n",
       "Open       1.476625e+01  4.254625e+01  1.210800e+02  \n",
       "High       1.498125e+01  4.305125e+01  1.217500e+02  \n",
       "Low        1.466250e+01  4.208625e+01  1.201700e+02  \n",
       "Close      1.476750e+01  4.254000e+01  1.213600e+02  \n",
       "Adj_Close  1.476750e+01  4.254000e+01  1.213600e+02  \n",
       "Volume     1.539300e+06  2.188900e+06  4.641260e+07  "
      ]
     },
     "execution_count": 10,
     "metadata": {},
     "output_type": "execute_result"
    }
   ],
   "source": [
    "df.describe().transpose()"
   ]
  },
  {
   "cell_type": "code",
   "execution_count": 11,
   "id": "1274215f",
   "metadata": {
    "execution": {
     "iopub.execute_input": "2022-11-04T06:39:29.844200Z",
     "iopub.status.busy": "2022-11-04T06:39:29.843796Z",
     "iopub.status.idle": "2022-11-04T06:39:29.864519Z",
     "shell.execute_reply": "2022-11-04T06:39:29.863441Z"
    },
    "papermill": {
     "duration": 0.033608,
     "end_time": "2022-11-04T06:39:29.867052",
     "exception": false,
     "start_time": "2022-11-04T06:39:29.833444",
     "status": "completed"
    },
    "tags": []
   },
   "outputs": [
    {
     "data": {
      "text/html": [
       "<div>\n",
       "<style scoped>\n",
       "    .dataframe tbody tr th:only-of-type {\n",
       "        vertical-align: middle;\n",
       "    }\n",
       "\n",
       "    .dataframe tbody tr th {\n",
       "        vertical-align: top;\n",
       "    }\n",
       "\n",
       "    .dataframe thead th {\n",
       "        text-align: right;\n",
       "    }\n",
       "</style>\n",
       "<table border=\"1\" class=\"dataframe\">\n",
       "  <thead>\n",
       "    <tr style=\"text-align: right;\">\n",
       "      <th></th>\n",
       "      <th>Date</th>\n",
       "      <th>Open</th>\n",
       "      <th>High</th>\n",
       "      <th>Low</th>\n",
       "      <th>Close</th>\n",
       "      <th>Adj_Close</th>\n",
       "      <th>Volume</th>\n",
       "    </tr>\n",
       "  </thead>\n",
       "  <tbody>\n",
       "    <tr>\n",
       "      <th>2770</th>\n",
       "      <td>2011/3/31</td>\n",
       "      <td>44.005001</td>\n",
       "      <td>44.095001</td>\n",
       "      <td>43.360001</td>\n",
       "      <td>43.500000</td>\n",
       "      <td>43.500000</td>\n",
       "      <td>46412600</td>\n",
       "    </tr>\n",
       "    <tr>\n",
       "      <th>2103</th>\n",
       "      <td>2008/8/7</td>\n",
       "      <td>14.082500</td>\n",
       "      <td>14.547500</td>\n",
       "      <td>13.437500</td>\n",
       "      <td>14.460000</td>\n",
       "      <td>14.460000</td>\n",
       "      <td>23767600</td>\n",
       "    </tr>\n",
       "    <tr>\n",
       "      <th>3288</th>\n",
       "      <td>2013/4/24</td>\n",
       "      <td>33.275002</td>\n",
       "      <td>33.299999</td>\n",
       "      <td>31.750000</td>\n",
       "      <td>32.299999</td>\n",
       "      <td>32.299999</td>\n",
       "      <td>22986800</td>\n",
       "    </tr>\n",
       "    <tr>\n",
       "      <th>153</th>\n",
       "      <td>2000/11/1</td>\n",
       "      <td>3.375000</td>\n",
       "      <td>3.390625</td>\n",
       "      <td>3.000000</td>\n",
       "      <td>3.250000</td>\n",
       "      <td>3.250000</td>\n",
       "      <td>19073200</td>\n",
       "    </tr>\n",
       "    <tr>\n",
       "      <th>152</th>\n",
       "      <td>2000/10/31</td>\n",
       "      <td>3.812500</td>\n",
       "      <td>4.000000</td>\n",
       "      <td>3.343750</td>\n",
       "      <td>3.359375</td>\n",
       "      <td>3.359375</td>\n",
       "      <td>17944400</td>\n",
       "    </tr>\n",
       "    <tr>\n",
       "      <th>3155</th>\n",
       "      <td>2012/10/9</td>\n",
       "      <td>44.779999</td>\n",
       "      <td>44.794998</td>\n",
       "      <td>42.285000</td>\n",
       "      <td>42.299999</td>\n",
       "      <td>42.299999</td>\n",
       "      <td>17734800</td>\n",
       "    </tr>\n",
       "    <tr>\n",
       "      <th>833</th>\n",
       "      <td>2003/7/23</td>\n",
       "      <td>8.000000</td>\n",
       "      <td>8.000000</td>\n",
       "      <td>6.675000</td>\n",
       "      <td>6.875000</td>\n",
       "      <td>6.875000</td>\n",
       "      <td>16833200</td>\n",
       "    </tr>\n",
       "    <tr>\n",
       "      <th>4173</th>\n",
       "      <td>2016/10/26</td>\n",
       "      <td>99.300003</td>\n",
       "      <td>100.860001</td>\n",
       "      <td>94.250000</td>\n",
       "      <td>94.250000</td>\n",
       "      <td>94.250000</td>\n",
       "      <td>16796600</td>\n",
       "    </tr>\n",
       "    <tr>\n",
       "      <th>3533</th>\n",
       "      <td>2014/4/14</td>\n",
       "      <td>40.965000</td>\n",
       "      <td>42.200001</td>\n",
       "      <td>40.365002</td>\n",
       "      <td>40.500000</td>\n",
       "      <td>40.500000</td>\n",
       "      <td>14450200</td>\n",
       "    </tr>\n",
       "    <tr>\n",
       "      <th>9</th>\n",
       "      <td>2000/4/7</td>\n",
       "      <td>3.593750</td>\n",
       "      <td>3.812500</td>\n",
       "      <td>3.593750</td>\n",
       "      <td>3.609375</td>\n",
       "      <td>3.609375</td>\n",
       "      <td>13904800</td>\n",
       "    </tr>\n",
       "  </tbody>\n",
       "</table>\n",
       "</div>"
      ],
      "text/plain": [
       "            Date       Open        High        Low      Close  Adj_Close  \\\n",
       "2770   2011/3/31  44.005001   44.095001  43.360001  43.500000  43.500000   \n",
       "2103    2008/8/7  14.082500   14.547500  13.437500  14.460000  14.460000   \n",
       "3288   2013/4/24  33.275002   33.299999  31.750000  32.299999  32.299999   \n",
       "153    2000/11/1   3.375000    3.390625   3.000000   3.250000   3.250000   \n",
       "152   2000/10/31   3.812500    4.000000   3.343750   3.359375   3.359375   \n",
       "3155   2012/10/9  44.779999   44.794998  42.285000  42.299999  42.299999   \n",
       "833    2003/7/23   8.000000    8.000000   6.675000   6.875000   6.875000   \n",
       "4173  2016/10/26  99.300003  100.860001  94.250000  94.250000  94.250000   \n",
       "3533   2014/4/14  40.965000   42.200001  40.365002  40.500000  40.500000   \n",
       "9       2000/4/7   3.593750    3.812500   3.593750   3.609375   3.609375   \n",
       "\n",
       "        Volume  \n",
       "2770  46412600  \n",
       "2103  23767600  \n",
       "3288  22986800  \n",
       "153   19073200  \n",
       "152   17944400  \n",
       "3155  17734800  \n",
       "833   16833200  \n",
       "4173  16796600  \n",
       "3533  14450200  \n",
       "9     13904800  "
      ]
     },
     "execution_count": 11,
     "metadata": {},
     "output_type": "execute_result"
    }
   ],
   "source": [
    "most_volume = df.query('Volume>1500000', inplace = False).sort_values('Volume', ascending = False)\n",
    "most_volume[:10]"
   ]
  },
  {
   "cell_type": "code",
   "execution_count": 12,
   "id": "0d03a20f",
   "metadata": {
    "execution": {
     "iopub.execute_input": "2022-11-04T06:39:29.924568Z",
     "iopub.status.busy": "2022-11-04T06:39:29.924192Z",
     "iopub.status.idle": "2022-11-04T06:39:29.933657Z",
     "shell.execute_reply": "2022-11-04T06:39:29.932385Z"
    },
    "papermill": {
     "duration": 0.02274,
     "end_time": "2022-11-04T06:39:29.936072",
     "exception": false,
     "start_time": "2022-11-04T06:39:29.913332",
     "status": "completed"
    },
    "tags": []
   },
   "outputs": [
    {
     "data": {
      "text/plain": [
       "High    3.6875\n",
       "Name: 18, dtype: float64"
      ]
     },
     "execution_count": 12,
     "metadata": {},
     "output_type": "execute_result"
    }
   ],
   "source": [
    "df[[\"High\"]].iloc[18]"
   ]
  },
  {
   "cell_type": "code",
   "execution_count": 13,
   "id": "4a632dc3",
   "metadata": {
    "execution": {
     "iopub.execute_input": "2022-11-04T06:39:29.975760Z",
     "iopub.status.busy": "2022-11-04T06:39:29.975378Z",
     "iopub.status.idle": "2022-11-04T06:39:29.984364Z",
     "shell.execute_reply": "2022-11-04T06:39:29.983243Z"
    },
    "papermill": {
     "duration": 0.022305,
     "end_time": "2022-11-04T06:39:29.986743",
     "exception": false,
     "start_time": "2022-11-04T06:39:29.964438",
     "status": "completed"
    },
    "tags": []
   },
   "outputs": [
    {
     "data": {
      "text/plain": [
       "Low    3.625\n",
       "Name: 10, dtype: float64"
      ]
     },
     "execution_count": 13,
     "metadata": {},
     "output_type": "execute_result"
    }
   ],
   "source": [
    "df[[\"Low\"]].iloc[10]"
   ]
  },
  {
   "cell_type": "code",
   "execution_count": 14,
   "id": "010f2c70",
   "metadata": {
    "execution": {
     "iopub.execute_input": "2022-11-04T06:39:30.029117Z",
     "iopub.status.busy": "2022-11-04T06:39:30.028658Z",
     "iopub.status.idle": "2022-11-04T06:40:19.324641Z",
     "shell.execute_reply": "2022-11-04T06:40:19.323816Z"
    },
    "papermill": {
     "duration": 49.318156,
     "end_time": "2022-11-04T06:40:19.335936",
     "exception": false,
     "start_time": "2022-11-04T06:39:30.017780",
     "status": "completed"
    },
    "tags": []
   },
   "outputs": [
    {
     "name": "stderr",
     "output_type": "stream",
     "text": [
      "/opt/conda/lib/python3.7/site-packages/seaborn/_decorators.py:43: FutureWarning: Pass the following variable as a keyword arg: x. From version 0.12, the only valid positional argument will be `data`, and passing other arguments without an explicit keyword will result in an error or misinterpretation.\n",
      "  FutureWarning\n"
     ]
    },
    {
     "data": {
      "text/plain": [
       "<AxesSubplot:xlabel='Volume', ylabel='count'>"
      ]
     },
     "execution_count": 14,
     "metadata": {},
     "output_type": "execute_result"
    },
    {
     "data": {
      "image/png": "[encoded data removed]",
      "text/plain": [
       "<Figure size 432x288 with 1 Axes>"
      ]
     },
     "metadata": {
      "needs_background": "light"
     },
     "output_type": "display_data"
    }
   ],
   "source": [
    "sns.countplot(df.Volume)"
   ]
  },
  {
   "cell_type": "code",
   "execution_count": 15,
   "id": "425122d5",
   "metadata": {
    "execution": {
     "iopub.execute_input": "2022-11-04T06:40:19.377972Z",
     "iopub.status.busy": "2022-11-04T06:40:19.376898Z",
     "iopub.status.idle": "2022-11-04T06:40:19.698029Z",
     "shell.execute_reply": "2022-11-04T06:40:19.696829Z"
    },
    "papermill": {
     "duration": 0.334999,
     "end_time": "2022-11-04T06:40:19.700547",
     "exception": false,
     "start_time": "2022-11-04T06:40:19.365548",
     "status": "completed"
    },
    "tags": []
   },
   "outputs": [
    {
     "name": "stderr",
     "output_type": "stream",
     "text": [
      "/opt/conda/lib/python3.7/site-packages/seaborn/distributions.py:2619: FutureWarning: `distplot` is a deprecated function and will be removed in a future version. Please adapt your code to use either `displot` (a figure-level function with similar flexibility) or `histplot` (an axes-level function for histograms).\n",
      "  warnings.warn(msg, FutureWarning)\n"
     ]
    },
    {
     "data": {
      "text/plain": [
       "<AxesSubplot:xlabel='High', ylabel='Density'>"
      ]
     },
     "execution_count": 15,
     "metadata": {},
     "output_type": "execute_result"
    },
    {
     "data": {
      "image/png": "[encoded data removed]",
      "text/plain": [
       "<Figure size 432x288 with 1 Axes>"
      ]
     },
     "metadata": {
      "needs_background": "light"
     },
     "output_type": "display_data"
    }
   ],
   "source": [
    "sns.distplot(df.High)"
   ]
  },
  {
   "cell_type": "code",
   "execution_count": 16,
   "id": "c435e94b",
   "metadata": {
    "execution": {
     "iopub.execute_input": "2022-11-04T06:40:19.744015Z",
     "iopub.status.busy": "2022-11-04T06:40:19.743591Z",
     "iopub.status.idle": "2022-11-04T06:40:19.933172Z",
     "shell.execute_reply": "2022-11-04T06:40:19.931925Z"
    },
    "papermill": {
     "duration": 0.204303,
     "end_time": "2022-11-04T06:40:19.936026",
     "exception": false,
     "start_time": "2022-11-04T06:40:19.731723",
     "status": "completed"
    },
    "tags": []
   },
   "outputs": [
    {
     "name": "stderr",
     "output_type": "stream",
     "text": [
      "/opt/conda/lib/python3.7/site-packages/seaborn/_decorators.py:43: FutureWarning: Pass the following variable as a keyword arg: x. From version 0.12, the only valid positional argument will be `data`, and passing other arguments without an explicit keyword will result in an error or misinterpretation.\n",
      "  FutureWarning\n"
     ]
    },
    {
     "data": {
      "text/plain": [
       "<AxesSubplot:xlabel='Low'>"
      ]
     },
     "execution_count": 16,
     "metadata": {},
     "output_type": "execute_result"
    },
    {
     "data": {
      "image/png": "[encoded data removed]",
      "text/plain": [
       "<Figure size 432x288 with 1 Axes>"
      ]
     },
     "metadata": {
      "needs_background": "light"
     },
     "output_type": "display_data"
    }
   ],
   "source": [
    "sns.boxplot(df.Low)"
   ]
  },
  {
   "cell_type": "code",
   "execution_count": 17,
   "id": "9224ed29",
   "metadata": {
    "execution": {
     "iopub.execute_input": "2022-11-04T06:40:19.981160Z",
     "iopub.status.busy": "2022-11-04T06:40:19.980745Z",
     "iopub.status.idle": "2022-11-04T06:40:20.125094Z",
     "shell.execute_reply": "2022-11-04T06:40:20.124276Z"
    },
    "papermill": {
     "duration": 0.161411,
     "end_time": "2022-11-04T06:40:20.129242",
     "exception": false,
     "start_time": "2022-11-04T06:40:19.967831",
     "status": "completed"
    },
    "tags": []
   },
   "outputs": [
    {
     "name": "stderr",
     "output_type": "stream",
     "text": [
      "/opt/conda/lib/python3.7/site-packages/seaborn/_decorators.py:43: FutureWarning: Pass the following variable as a keyword arg: x. From version 0.12, the only valid positional argument will be `data`, and passing other arguments without an explicit keyword will result in an error or misinterpretation.\n",
      "  FutureWarning\n"
     ]
    },
    {
     "data": {
      "text/plain": [
       "<AxesSubplot:xlabel='Volume'>"
      ]
     },
     "execution_count": 17,
     "metadata": {},
     "output_type": "execute_result"
    },
    {
     "data": {
      "image/png": "[encoded data removed]",
      "text/plain": [
       "<Figure size 432x288 with 1 Axes>"
      ]
     },
     "metadata": {
      "needs_background": "light"
     },
     "output_type": "display_data"
    }
   ],
   "source": [
    "sns.violinplot(df.Volume)"
   ]
  },
  {
   "cell_type": "code",
   "execution_count": 18,
   "id": "e898357d",
   "metadata": {
    "execution": {
     "iopub.execute_input": "2022-11-04T06:40:20.185116Z",
     "iopub.status.busy": "2022-11-04T06:40:20.184680Z",
     "iopub.status.idle": "2022-11-04T06:40:20.620283Z",
     "shell.execute_reply": "2022-11-04T06:40:20.619102Z"
    },
    "papermill": {
     "duration": 0.451351,
     "end_time": "2022-11-04T06:40:20.623052",
     "exception": false,
     "start_time": "2022-11-04T06:40:20.171701",
     "status": "completed"
    },
    "tags": []
   },
   "outputs": [
    {
     "data": {
      "text/plain": [
       "<AxesSubplot:>"
      ]
     },
     "execution_count": 18,
     "metadata": {},
     "output_type": "execute_result"
    },
    {
     "data": {
      "image/png": "[encoded data removed]",
      "text/plain": [
       "<Figure size 720x720 with 2 Axes>"
      ]
     },
     "metadata": {
      "needs_background": "light"
     },
     "output_type": "display_data"
    }
   ],
   "source": [
    "plt.figure(figsize=(10,10))\n",
    "\n",
    "sns.heatmap(df.corr(), annot=True)"
   ]
  },
  {
   "cell_type": "code",
   "execution_count": 19,
   "id": "2db49fa9",
   "metadata": {
    "execution": {
     "iopub.execute_input": "2022-11-04T06:40:20.648537Z",
     "iopub.status.busy": "2022-11-04T06:40:20.647505Z",
     "iopub.status.idle": "2022-11-04T06:40:21.280089Z",
     "shell.execute_reply": "2022-11-04T06:40:21.278948Z"
    },
    "papermill": {
     "duration": 0.648114,
     "end_time": "2022-11-04T06:40:21.282721",
     "exception": false,
     "start_time": "2022-11-04T06:40:20.634607",
     "status": "completed"
    },
    "tags": []
   },
   "outputs": [
    {
     "data": {
      "text/plain": [
       "[Text(0.5, 1.0, 'High vs Volume')]"
      ]
     },
     "execution_count": 19,
     "metadata": {},
     "output_type": "execute_result"
    },
    {
     "data": {
      "image/png": "[encoded data removed]",
      "text/plain": [
       "<Figure size 720x432 with 1 Axes>"
      ]
     },
     "metadata": {
      "needs_background": "light"
     },
     "output_type": "display_data"
    }
   ],
   "source": [
    "plt.figure(figsize=(10,6))\n",
    "sns.regplot(data = df, y = \"High\", x =\"Volume\", color = \"b\").set(title = \"High vs Volume\")"
   ]
  },
  {
   "cell_type": "code",
   "execution_count": null,
   "id": "09ceae4c",
   "metadata": {
    "papermill": {
     "duration": 0.011928,
     "end_time": "2022-11-04T06:40:21.307195",
     "exception": false,
     "start_time": "2022-11-04T06:40:21.295267",
     "status": "completed"
    },
    "tags": []
   },
   "outputs": [],
   "source": []
  }
 ],
 "metadata": {
  "kernelspec": {
   "display_name": "Python 3",
   "language": "python",
   "name": "python3"
  },
  "language_info": {
   "codemirror_mode": {
    "name": "ipython",
    "version": 3
   },
   "file_extension": ".py",
   "mimetype": "text/x-python",
   "name": "python",
   "nbconvert_exporter": "python",
   "pygments_lexer": "ipython3",
   "version": "3.8.8"
  },
  "papermill": {
   "default_parameters": {},
   "duration": 63.126643,
   "end_time": "2022-11-04T06:40:22.643482",
   "environment_variables": {},
   "exception": null,
   "input_path": "__notebook__.ipynb",
   "output_path": "__notebook__.ipynb",
   "parameters": {},
   "start_time": "2022-11-04T06:39:19.516839",
   "version": "2.3.4"
  }
 },
 "nbformat": 4,
 "nbformat_minor": 5
}
